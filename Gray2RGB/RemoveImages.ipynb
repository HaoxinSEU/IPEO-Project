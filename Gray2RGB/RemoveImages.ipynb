{
 "cells": [
  {
   "cell_type": "code",
   "execution_count": 2,
   "id": "93e1d774",
   "metadata": {},
   "outputs": [],
   "source": [
    "# remove images with too many non-labeled pixels in training set\n",
    "from PIL import Image\n",
    "import os\n",
    "import numpy as np"
   ]
  },
  {
   "cell_type": "code",
   "execution_count": 19,
   "id": "edef6a67",
   "metadata": {},
   "outputs": [
    {
     "name": "stdout",
     "output_type": "stream",
     "text": [
      "remove:  ./Forest_gray\\target\\train\\target_1216_1980.tif\n",
      "remove:  ./Forest_gray\\input\\train\\input_1216_1980.tif\n",
      "remove:  ./Forest_gray\\target\\train\\target_1246_1946.tif\n",
      "remove:  ./Forest_gray\\input\\train\\input_1246_1946.tif\n",
      "remove:  ./Forest_gray\\target\\train\\target_360_1968.tif\n",
      "remove:  ./Forest_gray\\input\\train\\input_360_1968.tif\n",
      "remove:  ./Forest_gray\\target\\train\\target_365_1968.tif\n",
      "remove:  ./Forest_gray\\input\\train\\input_365_1968.tif\n",
      "remove:  ./Forest_gray\\target\\train\\target_367_1968.tif\n",
      "remove:  ./Forest_gray\\input\\train\\input_367_1968.tif\n",
      "remove:  ./Forest_gray\\target\\train\\target_371_1968.tif\n",
      "remove:  ./Forest_gray\\input\\train\\input_371_1968.tif\n",
      "remove:  ./Forest_gray\\target\\train\\target_474_1977.tif\n",
      "remove:  ./Forest_gray\\input\\train\\input_474_1977.tif\n",
      "remove:  ./Forest_gray\\target\\train\\target_545_1981.tif\n",
      "remove:  ./Forest_gray\\input\\train\\input_545_1981.tif\n",
      "remove:  ./Forest_gray\\target\\train\\target_61_2013.tif\n",
      "remove:  ./Forest_gray\\input\\train\\input_61_2013.tif\n",
      "remove:  ./Forest_gray\\target\\train\\target_624_1946.tif\n",
      "remove:  ./Forest_gray\\input\\train\\input_624_1946.tif\n",
      "remove:  ./Forest_gray\\target\\train\\target_76_1960.tif\n",
      "remove:  ./Forest_gray\\input\\train\\input_76_1960.tif\n",
      "remove:  ./Forest_gray\\target\\train\\target_85_1960.tif\n",
      "remove:  ./Forest_gray\\input\\train\\input_85_1960.tif\n",
      "remove:  ./Forest_gray\\target\\train\\target_974_2013.tif\n",
      "remove:  ./Forest_gray\\input\\train\\input_974_2013.tif\n",
      "remove:  ./Forest_gray\\target\\train\\target_977_1993.tif\n",
      "remove:  ./Forest_gray\\input\\train\\input_977_1993.tif\n",
      "Total number of removed images:  14\n"
     ]
    }
   ],
   "source": [
    "folder_path = \"./Forest_gray\"\n",
    "\n",
    "# list all labels\n",
    "label_folder_path = os.path.join(folder_path, \"target\", \"train\")\n",
    "all_label_files = os.listdir(label_folder_path)\n",
    "\n",
    "# correpsonding images\n",
    "image_folder_path = os.path.join(folder_path, \"input\", \"train\")\n",
    "\n",
    "remove_count = 0\n",
    "\n",
    "# iterate through all labels to check the number of non-labeled pixels\n",
    "for label_file in all_label_files:\n",
    "    label_file_path = os.path.join(label_folder_path, label_file)\n",
    "    \n",
    "    image_index, _ = os.path.splitext(os.path.basename(label_file))\n",
    "    image_index = image_index.split('_', 1)  # get image ID\n",
    "    image_file = f\"input_{image_index[1]}.tif\"\n",
    "    image_file_path = os.path.join(image_folder_path, image_file)\n",
    "\n",
    "    # open the label\n",
    "    label = Image.open(label_file_path)\n",
    "    \n",
    "    # count the number of 255\n",
    "    label_np = np.array(label)\n",
    "    count = np.count_nonzero(label_np == 255)\n",
    "    \n",
    "    label.close()\n",
    "    \n",
    "    # threshold is 25%\n",
    "    if count > 0.25 * label_np.shape[0] * label_np.shape[1]:\n",
    "        print(\"remove: \", label_file_path)\n",
    "        os.remove(label_file_path)\n",
    "        print(\"remove: \", image_file_path)\n",
    "        os.remove(image_file_path)\n",
    "        remove_count = remove_count + 1\n",
    "        \n",
    "print(\"Total number of removed images: \", remove_count)"
   ]
  },
  {
   "cell_type": "code",
   "execution_count": null,
   "id": "8f95bbd3",
   "metadata": {},
   "outputs": [],
   "source": []
  }
 ],
 "metadata": {
  "kernelspec": {
   "display_name": "Python 3",
   "language": "python",
   "name": "python3"
  },
  "language_info": {
   "codemirror_mode": {
    "name": "ipython",
    "version": 3
   },
   "file_extension": ".py",
   "mimetype": "text/x-python",
   "name": "python",
   "nbconvert_exporter": "python",
   "pygments_lexer": "ipython3",
   "version": "3.8.8"
  }
 },
 "nbformat": 4,
 "nbformat_minor": 5
}
